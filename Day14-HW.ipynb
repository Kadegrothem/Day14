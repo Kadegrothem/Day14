{
 "cells": [
  {
   "cell_type": "markdown",
   "id": "6ce44393-3036-4c90-904f-1e85718f57fb",
   "metadata": {},
   "source": [
    "## Introduction to Data Science\n",
    "\n",
    "#### University of Redlands - DATA 101\n",
    "#### Prof: Joanna Bieri [joanna_bieri@redlands.edu](mailto:joanna_bieri@redlands.edu)\n",
    "#### [Class Website: data101.joannabieri.com](https://joannabieri.com/data101.html)\n",
    "\n",
    "---------------------------------------\n",
    "# Homework Day 14\n",
    "---------------------------------------\n",
    "\n",
    "GOALS:\n",
    "\n",
    "1. Reflect on Algorithmic bias\n",
    "2. Consider your role in Data Ethics\n",
    "3. Report on your reading.\n",
    "\n",
    "----------------------------------------------------------\n",
    "\n",
    "This homework has **3 questions** and **1 reading report**"
   ]
  },
  {
   "cell_type": "markdown",
   "id": "d0c422e3-32b1-452f-89a8-2586784d3957",
   "metadata": {},
   "source": [
    "## Important Information\n",
    "\n",
    "- Email: [joanna_bieri@redlands.edu](mailto:joanna_bieri@redlands.edu)\n",
    "- Office Hours: Duke 209 <a href=\"https://joannabieri.com/schedule.html\"> Click Here for Joanna's Schedule</a>\n",
    "\n",
    "## Day 14 Assignment - same drill.\n",
    "\n",
    "1. Make sure you can **Fork** and **Clone** the Day14 repo from [Redlands-DATA101](https://github.com/Redlands-DATA101)\n",
    "2. Open the file Day14-HW.ipynb and start doing the problems.\n",
    "    * You can do these problems as you follow along with the lecture notes and video.\n",
    "3. Get as far as you can before class.\n",
    "4. Submit what you have so far **Commit** and **Push** to Git.\n",
    "5. Take the daily check in quiz on **Canvas**.\n",
    "7. Come to class with lots of questions!\n",
    "\n",
    "## If you start having trouble with git!!!\n",
    "\n",
    "Some people have reported that GIT is disappearing or giving errors on when they try to use it in Jupyter Lab. Here is another option for interacting with git:\n",
    "\n",
    "[Git Desktop](https://github.com/apps/desktop)\n",
    "\n",
    "If yous start having errors, try downloading this app. I can show you how to use it in class."
   ]
  },
  {
   "cell_type": "markdown",
   "id": "15fd0fc5-0e82-4265-a328-e906366c4907",
   "metadata": {},
   "source": [
    "## Report on your Data Ethics reading:\n",
    "\n",
    "**Your answers should be written as neatly as possible in Markdown cells**\n",
    "\n",
    "Your homework for today is all essay and written work. Make sure you respond to the three questions in the lecture:\n",
    "\n",
    "**Q1** What is your response to our discussion of bias in algorithms? Talk about the pluses and minuses of using algorithms to make decisions in our human world.\n",
    "\n",
    "**Q2**\n",
    "How do you train yourself to make the right decisions (or reduce the likelihood of accidentally making the wrong decisions) at those points?\n",
    "\n",
    "**Q3**\n",
    "How do you respond when you see bias in someones work? How could you take action to educate others?\n",
    "\n",
    "\n",
    "**Reading Report**\n",
    "\n",
    "Write a report about what you learned from your ethics reading exploration. For each book/article you read:\n",
    "\n",
    "1. Include a full proper reference to the book/article.\n",
    "   * BOOK: Author last name, First name. Book Title: Subtitle. Edition, Publisher, Year.\n",
    "   * ONLINE ARTICLE: Author last name, First name. Article Title. Website name, date accessed. html link.\n",
    "   * [MLA styles for citing other types of online work](https://style.mla.org/works-cited/citations-by-format/online-works/?gad_source=1)\n",
    "2. Write a summary in your own words what the book/article was about. Imagine telling your classmates about what they would learn by reading the article.\n",
    "3. Discuss your own reaction to the book/article. Did it have any effect on how you think about data and ethics? Do you agree with the author? What specific ideas really stood out to you?"
   ]
  },
  {
   "cell_type": "markdown",
   "id": "bf53176f-7926-4d4e-967c-5b5bbd011abe",
   "metadata": {},
   "source": [
    "**Q1** Bias is everywhere in algorithms and must be prevented to get viable decisions. Some pluses of using algorithms to make discissions is that they will not let emotions affect their decisions. Their decisions are purely based off of data and can not be affected by a current mood. Another plus is that algorithms may spot patterns that a human could not see. This pattern recognition could help make a decision based off a different point of view. With all the good that algorithms bring their is lots of minuses. The first being that algorithms can inherit biasis from faulty data. These biasis could discriminate against certain people or groups which is unfair."
   ]
  },
  {
   "cell_type": "markdown",
   "id": "6a527f22-684c-4aee-aa4d-afd435a9c996",
   "metadata": {},
   "source": [
    "**Q2** I train myself to make the right decision by looking at data that is gathered correctly. Data has to be gathered without biasis, which means the group of people have to be random and their decisions can not be affected by pressure."
   ]
  },
  {
   "cell_type": "markdown",
   "id": "7335bfa0-82c0-46d7-9734-f4300dedfa54",
   "metadata": {},
   "source": [
    "**Q3** When I see bias in someone work it is my respondibility to reach out and educate the person of their mistake. If I were to not act and people saw this data is may influence them wrongly. I coudld take action to educate others by informing them on the importance of good data and how to recieve it."
   ]
  },
  {
   "cell_type": "markdown",
   "id": "9ca89bb8-e1ea-4af6-aea6-faf8874deaf2",
   "metadata": {},
   "source": [
    "**Reading Report**"
   ]
  },
  {
   "cell_type": "markdown",
   "id": "ff578e3a-e380-4c22-a16f-91ceed088dab",
   "metadata": {},
   "source": [
    "1. Cepelak, Christine, An Introduction to Data Ethics: What is the Ethical Use of Data?, RADAR, https://www.datacamp.com/blog/introduction-to-data-ethics.\n",
    "\n",
    "2. Data ethics is crucial for managing personal information that affects millions worldwide. Recent incidents show the importance of ethical practices in data handling. For instance, British Airways’ 2018 data breach exposed customers' data to hackers. Apple’s credit card algorithm faced backlash for gender bias in credit limits, and Facebook’s 2021 data breach revealed the private information of over 533 million users. These cases highlight the harm when organizations misuse data. Ethical data use is essential for personal protection. As technology like AI and machine learning evolve, ethical concerns grow. We have to ensure that these innovations benefit society and require ethical data collection. Regulations like GDPR and CCPA help some but not nearly enough, making it hard to fully protect privacy.\n",
    "\n",
    "3. I agree with the author’s perspective on the importance of data ethics. The examples provided illustrate how mishandling data can have serious consequences to society. These incidents show that we need ethical oversight and a commitment to data security to protect people’s privacy. \n",
    "The author talks about how much data is powerful and pervasive. While it does lead to advancements, the misuse of data could have many negative consequences. We must think ethically to ensure that data is used responsibly.\r\n"
   ]
  },
  {
   "cell_type": "markdown",
   "id": "8719cc97-89c1-4fa4-afcc-d1fb3c91cce0",
   "metadata": {},
   "source": [
    "1. Woods, Cary, The Ethics of Data Ownership: Who Owns Your Digital Identity?, Linkedin, https://www.linkedin.com/pulse/ethics-data-ownership-who-owns-your-digital-identity-dr-cary-woods-k24ec\n",
    "\n",
    "2. Personal data is collected from every online interaction, purchase, and social engagement. This raised the author to ask the question, who owns our digital identity? Individuals have limited control over their data, while companies use it for profit. Although laws like the GDPR and CCPA offer some user protections, they do not fully help with the ownership and privacy. User privacy allows individuals to control who has access to their personal information. Companies sell data to third parties and use it for targeted advertising. It can be used to expose data breaches, leading risks for users. It is hard for people to trust the internet as they lose control over their information. From a companies’ perspective, data is crucial.Social media or search engines are free to users since they take people’s data, including targeted advertising. Without access to data resources, companies would struggle. Data has become very important for tech companies, causing many ethical and privacy dilemmas for users.\n",
    "\n",
    "3. I agree with the author’s on the role of personal data as both being valuable to companies, and a privacy for the users. The author shows the reality that every online interaction contributes to a digital footprint that companies monetize. This causes data to act as a currency, raising concerns about ownership and privacy. We rely on the internet daily, yet we are exposed to risks like data breaches and targeted advertising."
   ]
  },
  {
   "cell_type": "markdown",
   "id": "ddb04824-46cd-42c8-b398-56dbb27aa905",
   "metadata": {},
   "source": [
    "1. Pazzanese, Christina, Great promise but potential for peril, The Harvard Gazette, https://news.harvard.edu/gazette/story/2020/10/ethical-concerns-mount-as-ai-takes-bigger-decision-making-role/.\n",
    "\n",
    "2. For years, artificial intelligence has helped advanced STEM research, but it is now helping in everyday life, with platforms like Google and Amazon. AI is now very important in healthcare, banking, retail, and manufacturing, where it’s used in improving efficiency, reducing costs, and aiding research. However, AI has raised concerns about harming people in biases in systems that determine health, employment, and criminal justice. The AI market has seen much growth and is projected to reach $110 billion by 2024. Industries like retail, banking, and government invest in AI since it may reshape entire industries over the next decade.\n",
    "\n",
    "3. "
   ]
  },
  {
   "cell_type": "markdown",
   "id": "c6faae4b-ce39-4695-a87f-99e40bda1322",
   "metadata": {},
   "source": [
    "\n",
    "-------------------------------------------------------\n",
    "\n",
    "## Further watching\n",
    "\n",
    "If you have time, really explore the world of data ethics. You could watch some of the videos linked from class.\n",
    "\n",
    "### Weapons of Math Destruction | Cathy O'Neil | Talks at Google\n",
    "\n",
    "{{< video https://www.youtube.com/watch?v=TQHs8SA1qpk >}}\n",
    "\n",
    "### Imagining a Future Free from the Algorithms of Oppression | Safiya Noble | ACL 2019\n",
    "\n",
    "{{< video https://www.youtube.com/watch?v=tNi_U1Bb1S0 >}}\n",
    "\n",
    "### Whats An Algorithm Got To Do With It\n",
    "\n",
    "{{< video https://www.youtube.com/watch?v=5zxDwA99soA >}}"
   ]
  },
  {
   "cell_type": "code",
   "execution_count": null,
   "id": "d75adfae-6e62-4549-9856-bf7030620521",
   "metadata": {},
   "outputs": [],
   "source": []
  }
 ],
 "metadata": {
  "kernelspec": {
   "display_name": "Python 3 (ipykernel)",
   "language": "python",
   "name": "python3"
  },
  "language_info": {
   "codemirror_mode": {
    "name": "ipython",
    "version": 3
   },
   "file_extension": ".py",
   "mimetype": "text/x-python",
   "name": "python",
   "nbconvert_exporter": "python",
   "pygments_lexer": "ipython3",
   "version": "3.12.3"
  }
 },
 "nbformat": 4,
 "nbformat_minor": 5
}
